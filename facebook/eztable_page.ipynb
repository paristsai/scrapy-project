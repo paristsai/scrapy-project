{
 "cells": [
  {
   "cell_type": "code",
   "execution_count": 1,
   "metadata": {
    "collapsed": true
   },
   "outputs": [],
   "source": [
    "import pandas as pd"
   ]
  },
  {
   "cell_type": "code",
   "execution_count": 2,
   "metadata": {
    "collapsed": false
   },
   "outputs": [
    {
     "name": "stdout",
     "output_type": "stream",
     "text": [
      "eztable.csv         \u001b[1m\u001b[36mfacebook\u001b[m\u001b[m/           sample_cmd.sh\r\n",
      "eztable_page.ipynb  posts.json          scrapy.cfg\r\n"
     ]
    }
   ],
   "source": [
    "%ls"
   ]
  },
  {
   "cell_type": "code",
   "execution_count": 3,
   "metadata": {
    "collapsed": false
   },
   "outputs": [],
   "source": [
    "df = pd.read_csv('eztable.csv', delimiter='\\t')"
   ]
  },
  {
   "cell_type": "code",
   "execution_count": 6,
   "metadata": {
    "collapsed": false
   },
   "outputs": [
    {
     "data": {
      "text/plain": [
       "4756"
      ]
     },
     "execution_count": 6,
     "metadata": {},
     "output_type": "execute_result"
    }
   ],
   "source": [
    "len(df[df.type=='photo'])"
   ]
  },
  {
   "cell_type": "code",
   "execution_count": 18,
   "metadata": {
    "collapsed": false
   },
   "outputs": [
    {
     "data": {
      "text/plain": [
       "0    這是 EZTABLE 簡單桌 和我一起發的歲末紅包，快來拼手氣每人最高有 $300！→ ht...\n",
       "1    歲末領紅包，人人都有回饋金拿！https://goo.gl/ZMtVla\\n可以完全折抵餐費...\n",
       "2    大家一起抽紅包吃大餐 分享 https://goo.gl/3jm7Mp 大家一起領紅包 1/...\n",
       "3    大家一起抽紅包吃大餐 分享 https://goo.gl/3jm7Mp 大家一起領紅包 1/...\n",
       "4    大家一起抽紅包吃大餐\\n分享 https://goo.gl/3jm7Mp\\n\\n大家一起領紅...\n",
       "Name: message, dtype: object"
      ]
     },
     "execution_count": 18,
     "metadata": {},
     "output_type": "execute_result"
    }
   ],
   "source": [
    "df.message.head()"
   ]
  },
  {
   "cell_type": "code",
   "execution_count": 30,
   "metadata": {
    "collapsed": false,
    "scrolled": true
   },
   "outputs": [],
   "source": [
    "def search_words(df, words):\n",
    "    return df[df.message.str.contains(words)==True]"
   ]
  },
  {
   "cell_type": "code",
   "execution_count": 44,
   "metadata": {
    "collapsed": false
   },
   "outputs": [
    {
     "data": {
      "text/plain": [
       "83      【 豐Food 海陸百匯｜明天開放二月訂位喔！】\\n\\n豐Food 海陸百匯主打的就是「多而...\n",
       "893     🍴 台北六福萬怡酒店 🍴\\n\\n嗨大家好~ (>∀･) 希望大家都有度過一個愉快的母親節...\n",
       "903     🌺 Buffet 一方霸主 - 品花苑 🌺\\n\\n重質又重量的 buffet 霸主 品花...\n",
       "908     ✨ 創意法式一鍋兩吃 - U Restaurant  台北有園飯店 ✨\\n\\n總是覺得法式料...\n",
       "947     ✨ 有求必應的阿拉丁神燈 - 台北威斯汀六福皇宮 合輯 ✨\\n\\n英式下午茶、中式料理、義大...\n",
       "952     ✨ 【港點吃到飽 buffet - 潮坊港式飲茶 ( 內湖 InBase )  】 ✨\\n\\...\n",
       "956     ✨ 台南頂級 buffet 首選 - 吃遍天下自助餐廳-台糖長榮酒店 ✨ \\n\\n總是覺得北...\n",
       "999     🔥【頂級波士頓龍蝦吃到飽，獨家限量方案 9 折！】🔥\\n\\n全台最大 buffet 品花...\n",
       "1002    🔥【「龍蝦、帝王蟹十二宴」吃到飽 95 折】🔥\\n\\n一直都在熱門 buffet 中排名...\n",
       "1035    🍀無毒早午餐buffet、法式料理、歐風烘焙、浪漫下午茶🍀\\n\\n吉凡尼的花園，以印象派...\n",
       "1118    【一客牛排三種口感？菲力、紐約客、丁骨一次享有】\\n\\n台北萬豪酒店 EZTABLE獨家九折...\n",
       "1119    【Buffet？自助餐還是吃到飽？】\\n\\n小編家裡從不煮飯，所以是個十足的外食族，每次覺得...\n",
       "1230    【六福皇宮絲路宴，同享口福】\\n不可思議午茶優惠👉http://bit.ly/1k2QQk...\n",
       "1375    沒錯！！就是現在！！\\n高雄的捧油看過來， OH NO~再看就沒啦！\\n今天中信卡友日麗尊酒...\n",
       "1384    還沒吃過凱撒 Checkers 嗎？\\n快！到六月底前都還有四人同行一人免費的優惠喔！\\n除...\n",
       "1391    今天中午開放下一波的六福皇宮絲路宴下午茶訂位優惠喔！\\n四人同行一人免費～\\n開放預訂時間：...\n",
       "1428    六福皇宮絲路宴免費優惠活動又開始啦！\\n旗艦版下午茶 buffet 四人同行一人免費，透過以...\n",
       "1429    週三會員日，五星 buffet 又一家! 富信樂廚全新餐券上架，會員優先品嚐！八國料理無限享...\n",
       "1474    六福皇宮絲路宴 旗艦版下午茶 四人同行一人免費！\\n大龍蝦+頂級牛排+各國料理buffet ...\n",
       "1485           南台灣五星 buffet 扛霸子→大八大飯店\\n全系列 電子餐券 優惠最殺、超方便！\n",
       "1486    南台灣五星 buffet 扛霸子~大八全系列品牌餐券優惠再加碼!\\n超人氣的潮坊港式飲茶還有...\n",
       "1495    每週最期待的就是這一天! TGIF! 君悅彩日本即期平日buffet券，今天中午12點將推出...\n",
       "1505    開工第一天～\\n新竹芙洛麗buffet買一送一！！！\\n限量一百組，錯過就沒有啦～\\nhtt...\n",
       "1613        【聖誕限定】人氣 semi-buffet 寒舍艾麗餐券77折，數量有限搶完即止。立即搶購！\n",
       "1634    「餐券排行榜 APP」限定，六福皇宮‧絲路宴buffet網路排名人氣王，年終驚奇價 66 折...\n",
       "2102    yam  舉辦的 Buffet 網路票選，綜合網友、部落客、秘密客評分，產生了「十大飯店Bu...\n",
       "2824    在台中亞緻飯店異料理，三月可以吃到義大利客座主廚的特色餐點!\\n重點是: 四人同行網路訂位，...\n",
       "2868    雖然很多人明天要上班，但晚上乾脆約朋友大吃一頓？推薦一家以甜點著名的台北知名飯店 buffe...\n",
       "2912                   請問台北有哪家餐廳或是飯店有提供20人包廂，又有buffet服務呢?\n",
       "2961    透過EZTABLE用餐，在台中長榮酒店用餐，除了買獨家優惠餐券，還可以20元加購人氣核桃麵包...\n",
       "3052    LPGA台灣錦標賽今日登場！吃好料順便為曾雅妮加油！！！\\r\\n賽事指定飯店-華航諾富特飯店...\n",
       "3059    這是獨家！！！！（無誤）\\r\\n現在透過EZTABLE網路訂位高雄麗尊飯店-cercle b...\n",
       "3170    EZTABLE粉絲回饋！台中裕元酒店buffet餐券現在只要525元(原價:748元)！另外...\n",
       "3205    颱風天，如果有需要外出要注意安全噢：）還沒決定去哪裡用餐的人，可以考慮台南遠東香格里拉、新竹...\n",
       "3253    摩登時尚的八方美學出新菜單了！吃完裡面的Semi-buffet還可以去附近的華山藝文區走走晃...\n",
       "3273    你有看過哪家Buffet有現搖的珍珠奶茶嗎？！香格里拉10F的遠東Cafe有~被譽為國際級的...\n",
       "3284    妳看過哪家buffet除了生魚片，哈跟大絲，還有現搖的珍珠奶茶嗎？台南遠東香格里拉的buff...\n",
       "3350    台北老爺大酒店的 buffet、中餐廳、日本料理 超值禮券也在 Share 上獨家販售囉！！...\n",
       "3494           如果現在問你哪裡有buffet是有哈跟達斯吃到飽的，你可以馬上回答出來嗎？>///<\n",
       "3662        唉，什麼時候台北才會有這種 buffet 吃到飽餐廳 ><  (天氣太冷就想吃吃吃。。。)\n",
       "3665                              高雄Cercle buffet正夯，你吃過沒？\n",
       "4004    各位注意了！！高雄超超超超～熱門的buffet漢來海港餐廳可以線上訂位了！不用再擔心電話打不...\n",
       "4198         期中考考完，畢業季要到了呢！四家知名 buffet 餐廳聯合推出謝師宴專案喔！搶訂喔～～\n",
       "4243    \"重點不在我喜歡吃buffet、火鍋、或是法國菜\\n而是我享受了那些狂歡、溫馨、以及浪漫的感...\n",
       "4259    台中裕元溫莎buffet 推出新主題菜色，噹噹噹，地～～～中～～～海～～～希臘～～義大利～～...\n",
       "4291                   雲品丹彤美食buffet 加上開闊的美景，人生就是想要享受這一刻阿！\n",
       "4534    大家應該都很愛吃buffet對吧:) 我最喜歡先吃一盤清爽的沙拉，再接著開始大啖其他海鮮跟肉...\n",
       "4540    晚上好:)各位好朋友，小編過兩天想跟朋友去飯店大吃一頓，可是不知道該吃buffet好?還是吃...\n",
       "4695              高雄國賓愛河西餐廳 兩人同行一人半價~ 又來囉! 夏天吃buffet比較開胃~\n",
       "Name: message, dtype: object"
      ]
     },
     "execution_count": 44,
     "metadata": {},
     "output_type": "execute_result"
    }
   ],
   "source": [
    "search_words(df, 'buffet').message"
   ]
  },
  {
   "cell_type": "code",
   "execution_count": null,
   "metadata": {
    "collapsed": true
   },
   "outputs": [],
   "source": []
  }
 ],
 "metadata": {
  "kernelspec": {
   "display_name": "Python 2",
   "language": "python",
   "name": "python2"
  },
  "language_info": {
   "codemirror_mode": {
    "name": "ipython",
    "version": 2
   },
   "file_extension": ".py",
   "mimetype": "text/x-python",
   "name": "python",
   "nbconvert_exporter": "python",
   "pygments_lexer": "ipython2",
   "version": "2.7.10"
  }
 },
 "nbformat": 4,
 "nbformat_minor": 2
}
